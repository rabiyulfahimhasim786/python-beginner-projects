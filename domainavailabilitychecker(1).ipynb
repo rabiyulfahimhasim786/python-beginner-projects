{
 "cells": [
  {
   "cell_type": "code",
   "execution_count": 17,
   "metadata": {},
   "outputs": [],
   "source": [
    "# import modules \n",
    "from tkinter import *\n",
    "import whois \n",
    "import sys \n",
    "  \n",
    "  \n",
    "# user define funtion \n",
    "# for get domain information \n",
    "def Domain_info(): \n",
    "    try: \n",
    "        domain = whois.whois(str(e1.get())) \n",
    "          \n",
    "        if domain.domain_name == None: \n",
    "            sys.exit(1) \n",
    "  \n",
    "    except: \n",
    "        result = \"This domain is available\"\n",
    "      \n",
    "    else: \n",
    "        result = \"Oops! this domain already purchased\"\n",
    "    res.set(result) \n",
    "  \n",
    "  \n",
    "# object of tkinter \n",
    "# and background set for red \n",
    "master = Tk() \n",
    "master.configure(bg='white') \n",
    "  \n",
    "# Variable Classes in tkinter \n",
    "res = StringVar() \n",
    "  \n",
    "# Creating label for each information \n",
    "# name using widget Label \n",
    "Label(master, text=\"Website URL : \", bg=\"white\").grid(row=0, sticky=W) \n",
    "Label(master, text=\"Result :\", bg=\"white\").grid(row=3, sticky=W) \n",
    "  \n",
    "# Creating lebel for class variable \n",
    "# name using widget Entry \n",
    "Label(master, text=\"\", textvariable=res, bg=\"white\").grid( \n",
    "    row=3, column=1, sticky=W) \n",
    "  \n",
    "e1 = Entry(master) \n",
    "e1.grid(row=0, column=1) \n",
    "  \n",
    "# creating a button using the widget \n",
    "# Button that will call the submit function \n",
    "b = Button(master, text=\"Show\", command=Domain_info, bg=\"red\") \n",
    "b.grid(row=0, column=2, columnspan=2, rowspan=2, padx=5, pady=5,) \n",
    "  \n",
    "mainloop()"
   ]
  },
  {
   "cell_type": "code",
   "execution_count": null,
   "metadata": {},
   "outputs": [],
   "source": []
  },
  {
   "cell_type": "code",
   "execution_count": null,
   "metadata": {},
   "outputs": [],
   "source": []
  },
  {
   "cell_type": "code",
   "execution_count": null,
   "metadata": {},
   "outputs": [],
   "source": []
  }
 ],
 "metadata": {
  "kernelspec": {
   "display_name": "Python 3",
   "language": "python",
   "name": "python3"
  },
  "language_info": {
   "codemirror_mode": {
    "name": "ipython",
    "version": 3
   },
   "file_extension": ".py",
   "mimetype": "text/x-python",
   "name": "python",
   "nbconvert_exporter": "python",
   "pygments_lexer": "ipython3",
   "version": "3.6.5"
  }
 },
 "nbformat": 4,
 "nbformat_minor": 2
}
