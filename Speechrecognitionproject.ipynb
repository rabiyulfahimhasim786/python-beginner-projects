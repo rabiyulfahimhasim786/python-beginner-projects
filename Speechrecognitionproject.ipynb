{
 "cells": [
  {
   "cell_type": "code",
   "execution_count": null,
   "metadata": {},
   "outputs": [],
   "source": [
    "### Building Twitter bot\n",
    "\n",
    "# Auto reply to tags\n",
    "# auto retweet user status\n",
    "# auto like user status\n",
    "# auto reply to user DM\n",
    "# auto tag user on status\n",
    "# auto follow user\n",
    "\n",
    "# Step 1 creating a developer account\n",
    "# Get developer API\n",
    "# enabling different Access\n",
    "\n",
    "# 2 twitter accounts\n",
    "# the account that you are going to control\n",
    "# second account is to test functionlity of first account\n",
    "\n",
    "# Developer twitter api\n",
    "# 2 ways\n",
    "\n",
    "# 1 - apply for developer account\n",
    "# 2 - create app and use key and tokens to control account\n",
    "\n"
   ]
  }
 ],
 "metadata": {
  "kernelspec": {
   "display_name": "Python 3",
   "language": "python",
   "name": "python3"
  },
  "language_info": {
   "codemirror_mode": {
    "name": "ipython",
    "version": 3
   },
   "file_extension": ".py",
   "mimetype": "text/x-python",
   "name": "python",
   "nbconvert_exporter": "python",
   "pygments_lexer": "ipython3",
   "version": "3.6.5"
  }
 },
 "nbformat": 4,
 "nbformat_minor": 2
}
