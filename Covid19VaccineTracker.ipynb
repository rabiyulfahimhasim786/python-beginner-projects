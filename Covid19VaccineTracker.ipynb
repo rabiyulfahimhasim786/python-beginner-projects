{
 "cells": [
  {
   "cell_type": "code",
   "execution_count": null,
   "metadata": {},
   "outputs": [],
   "source": [
    "import requests \n",
    "from bs4 import BeautifulSoup \n",
    "  \n",
    "  \n",
    "def getdata(url): \n",
    "    r = requests.get(url) \n",
    "    return r.text \n",
    "  \n",
    "htmldata = getdata(\"https://covid-19tracker.milkeninstitute.org/\") \n",
    "soup = BeautifulSoup(htmldata, 'html.parser') \n",
    "result = str(soup.find_all(\"div\", class_=\"is_h5-2 is_developer w-richtext\")) \n",
    "  \n",
    "print(\"NO 1 \" + result[46:86]) \n",
    "print(\"NO 2 \"+result[139:226]) \n",
    "print(\"NO 3 \"+result[279:305]) \n",
    "print(\"NO 4 \"+result[358:375]) \n",
    "print(\"NO 5 \"+result[428:509]) "
   ]
  },
  {
   "cell_type": "code",
   "execution_count": null,
   "metadata": {},
   "outputs": [],
   "source": []
  }
 ],
 "metadata": {
  "kernelspec": {
   "display_name": "Python 3",
   "language": "python",
   "name": "python3"
  },
  "language_info": {
   "codemirror_mode": {
    "name": "ipython",
    "version": 3
   },
   "file_extension": ".py",
   "mimetype": "text/x-python",
   "name": "python",
   "nbconvert_exporter": "python",
   "pygments_lexer": "ipython3",
   "version": "3.6.5"
  }
 },
 "nbformat": 4,
 "nbformat_minor": 2
}
