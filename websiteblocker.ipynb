{
 "cells": [
  {
   "cell_type": "code",
   "execution_count": null,
   "id": "frank-difficulty",
   "metadata": {},
   "outputs": [],
   "source": [
    "# Run this script as root\n",
    "  \n",
    "import time\n",
    "from datetime import datetime as dt\n",
    "  \n",
    "# change hosts path according to your OS\n",
    "hosts_path = \"/etc/hosts\"\n",
    "# localhost's IP\n",
    "redirect = \"127.0.0.1\"\n",
    "  \n",
    "# websites That you want to block\n",
    "website_list = \n",
    "[\"www.facebook.com\",\"facebook.com\",\n",
    "      \"dub119.mail.live.com\",\"www.dub119.mail.live.com\",\n",
    "      \"www.gmail.com\",\"gmail.com\"]\n",
    "  \n",
    "while True:\n",
    "  \n",
    "    # time of your work\n",
    "    if dt(dt.now().year, dt.now().month, dt.now().day,8) \n",
    "    < dt.now() < dt(dt.now().year, dt.now().month, dt.now().day,16):\n",
    "        print(\"Working hours...\")\n",
    "        with open(hosts_path, 'r+') as file:\n",
    "            content = file.read()\n",
    "            for website in website_list:\n",
    "                if website in content:\n",
    "                    pass\n",
    "                else:\n",
    "                    # mapping hostnames to your localhost IP address\n",
    "                    file.write(redirect + \" \" + website + \"\\n\")\n",
    "    else:\n",
    "        with open(hosts_path, 'r+') as file:\n",
    "            content=file.readlines()\n",
    "            file.seek(0)\n",
    "            for line in content:\n",
    "                if not any(website in line for website in website_list):\n",
    "                    file.write(line)\n",
    "  \n",
    "            # removing hostnmes from host file\n",
    "            file.truncate()\n",
    "  \n",
    "        print(\"Fun hours...\")\n",
    "    time.sleep(5)"
   ]
  }
 ],
 "metadata": {
  "kernelspec": {
   "display_name": "Python 3",
   "language": "python",
   "name": "python3"
  },
  "language_info": {
   "codemirror_mode": {
    "name": "ipython",
    "version": 3
   },
   "file_extension": ".py",
   "mimetype": "text/x-python",
   "name": "python",
   "nbconvert_exporter": "python",
   "pygments_lexer": "ipython3",
   "version": "3.7.8"
  }
 },
 "nbformat": 4,
 "nbformat_minor": 5
}
