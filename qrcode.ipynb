{
 "cells": [
  {
   "cell_type": "code",
   "execution_count": null,
   "id": "downtown-north",
   "metadata": {},
   "outputs": [],
   "source": [
    "from qrtools import QR\n",
    "my_QR = QR(filename = \"home/user/Desktop/qr.png\")\n",
    "  \n",
    "# decodes the QR code and returns True if successful\n",
    "my_QR.decode()\n",
    "  \n",
    "# prints the data\n",
    "print (my_QR.data)"
   ]
  }
 ],
 "metadata": {
  "kernelspec": {
   "display_name": "Python 3",
   "language": "python",
   "name": "python3"
  },
  "language_info": {
   "codemirror_mode": {
    "name": "ipython",
    "version": 3
   },
   "file_extension": ".py",
   "mimetype": "text/x-python",
   "name": "python",
   "nbconvert_exporter": "python",
   "pygments_lexer": "ipython3",
   "version": "3.7.8"
  }
 },
 "nbformat": 4,
 "nbformat_minor": 5
}
